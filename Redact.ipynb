{
 "cells": [
  {
   "cell_type": "markdown",
   "id": "7e8e9616",
   "metadata": {},
   "source": [
    "# Import Packages"
   ]
  },
  {
   "cell_type": "code",
   "execution_count": 1,
   "id": "b7005503",
   "metadata": {},
   "outputs": [],
   "source": [
    "from presidio_analyzer import AnalyzerEngine, PatternRecognizer, Pattern\n",
    "\n",
    "import pymupdf\n",
    "import fitz\n",
    "\n",
    "import keras_ocr\n",
    "import pytesseract\n",
    "\n",
    "pytesseract.pytesseract.tesseract_cmd = r'C:\\Program Files\\Tesseract-OCR\\tesseract.exe'\n",
    "\n",
    "import os\n",
    "import pandas as pd\n",
    "from collections import defaultdict\n",
    "from PIL import Image, ImageDraw"
   ]
  },
  {
   "cell_type": "markdown",
   "id": "392d1ff6",
   "metadata": {},
   "source": [
    "# Recognizers"
   ]
  },
  {
   "cell_type": "markdown",
   "id": "6d6d459e",
   "metadata": {},
   "source": [
    "# Redaction Class"
   ]
  },
  {
   "cell_type": "code",
   "execution_count": null,
   "id": "c074d379",
   "metadata": {},
   "outputs": [],
   "source": [
    "class Redaction():\n",
    "    def __init__(self, file_name, new_file_name, method, screenshot_dir):\n",
    "        self.file_name = file_name\n",
    "        self.new_file_name = new_file_name\n",
    "        self.method = method\n",
    "        self.screenshot_dir = screenshot_dir"
   ]
  },
  {
   "cell_type": "code",
   "execution_count": null,
   "id": "2671b8e2",
   "metadata": {},
   "outputs": [],
   "source": []
  }
 ],
 "metadata": {
  "kernelspec": {
   "display_name": "PIIRedaction",
   "language": "python",
   "name": "python3"
  },
  "language_info": {
   "codemirror_mode": {
    "name": "ipython",
    "version": 3
   },
   "file_extension": ".py",
   "mimetype": "text/x-python",
   "name": "python",
   "nbconvert_exporter": "python",
   "pygments_lexer": "ipython3",
   "version": "3.11.11"
  }
 },
 "nbformat": 4,
 "nbformat_minor": 5
}
